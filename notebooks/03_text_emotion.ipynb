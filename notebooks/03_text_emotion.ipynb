{
 "cells": [
  {
   "cell_type": "code",
   "execution_count": null,
   "id": "8181e6d0",
   "metadata": {},
   "outputs": [],
   "source": [
    "import pandas as pd\n",
    "import matplotlib.pyplot as plt\n",
    "from sklearn.feature_extraction.text import TfidfVectorizer\n",
    "from sklearn.cluster import KMeans\n",
    "from sklearn.decomposition import PCA"
   ]
  },
  {
   "cell_type": "code",
   "execution_count": 23,
   "id": "dfe802eb",
   "metadata": {},
   "outputs": [
    {
     "name": "stdout",
     "output_type": "stream",
     "text": [
      "📄 Total rows: 600\n",
      "📌 Sample:\n",
      "                    filename                 transcription\n",
      "0  03-01-01-01-01-01-01.wav  kids are talking by the door\n",
      "1  03-01-01-01-01-01-02.wav  kids are talking by the door\n",
      "2  03-01-01-01-01-01-03.wav  kids are talking by the door\n",
      "3  03-01-01-01-01-01-04.wav  kids are talking by the door\n",
      "4  03-01-01-01-01-01-05.wav  kids are talking by the door\n"
     ]
    }
   ],
   "source": [
    "transcription_path = \"../data/processed/\"\n",
    "filename=\"audio_transcription-Apr_25-17h_16m.csv\"\n",
    "\n",
    "df = pd.read_csv(transcription_path+filename)  # Ensure this CSV has: filename, transcription, emotion\n",
    "print(\"📄 Total rows:\", len(df))\n",
    "print(\"📌 Sample:\\n\", df.head())"
   ]
  },
  {
   "cell_type": "code",
   "execution_count": 24,
   "id": "5bbbc02a",
   "metadata": {},
   "outputs": [
    {
     "name": "stdout",
     "output_type": "stream",
     "text": [
      "🧹 Unique transcriptions: 15\n"
     ]
    }
   ],
   "source": [
    "unique_df = df.drop_duplicates(subset=[\"transcription\"])\n",
    "texts = unique_df[\"transcription\"].values\n",
    "print(f\"🧹 Unique transcriptions: {len(texts)}\")"
   ]
  },
  {
   "cell_type": "code",
   "execution_count": 25,
   "id": "2d25ec44",
   "metadata": {},
   "outputs": [
    {
     "name": "stdout",
     "output_type": "stream",
     "text": [
      "✅ Vectorized shape: (15, 7)\n"
     ]
    }
   ],
   "source": [
    "vectorizer = TfidfVectorizer(stop_words=\"english\")\n",
    "X = vectorizer.fit_transform(texts)\n",
    "print(\"✅ Vectorized shape:\", X.shape)"
   ]
  },
  {
   "cell_type": "code",
   "execution_count": 26,
   "id": "36c58615",
   "metadata": {},
   "outputs": [
    {
     "name": "stderr",
     "output_type": "stream",
     "text": [
      "C:\\Users\\Dama\\AppData\\Local\\Temp\\ipykernel_11788\\2228856486.py:4: SettingWithCopyWarning: \n",
      "A value is trying to be set on a copy of a slice from a DataFrame.\n",
      "Try using .loc[row_indexer,col_indexer] = value instead\n",
      "\n",
      "See the caveats in the documentation: https://pandas.pydata.org/pandas-docs/stable/user_guide/indexing.html#returning-a-view-versus-a-copy\n",
      "  unique_df[\"cluster\"] = kmeans.labels_\n"
     ]
    }
   ],
   "source": [
    "k = 3  # Adjust as you experiment\n",
    "kmeans = KMeans(n_clusters=k, random_state=42)\n",
    "kmeans.fit(X)\n",
    "unique_df[\"cluster\"] = kmeans.labels_"
   ]
  },
  {
   "cell_type": "code",
   "execution_count": 27,
   "id": "8dad906c",
   "metadata": {},
   "outputs": [
    {
     "data": {
      "text/html": [
       "<div>\n",
       "<style scoped>\n",
       "    .dataframe tbody tr th:only-of-type {\n",
       "        vertical-align: middle;\n",
       "    }\n",
       "\n",
       "    .dataframe tbody tr th {\n",
       "        vertical-align: top;\n",
       "    }\n",
       "\n",
       "    .dataframe thead th {\n",
       "        text-align: right;\n",
       "    }\n",
       "</style>\n",
       "<table border=\"1\" class=\"dataframe\">\n",
       "  <thead>\n",
       "    <tr style=\"text-align: right;\">\n",
       "      <th></th>\n",
       "      <th>filename</th>\n",
       "      <th>transcription</th>\n",
       "      <th>cluster</th>\n",
       "    </tr>\n",
       "  </thead>\n",
       "  <tbody>\n",
       "    <tr>\n",
       "      <th>0</th>\n",
       "      <td>03-01-01-01-01-01-01.wav</td>\n",
       "      <td>kids are talking by the door</td>\n",
       "      <td>1</td>\n",
       "    </tr>\n",
       "    <tr>\n",
       "      <th>20</th>\n",
       "      <td>03-01-01-01-02-01-01.wav</td>\n",
       "      <td>dogs are sitting by the door</td>\n",
       "      <td>0</td>\n",
       "    </tr>\n",
       "    <tr>\n",
       "      <th>182</th>\n",
       "      <td>03-01-03-02-02-01-03.wav</td>\n",
       "      <td>are dogs are sitting by the door</td>\n",
       "      <td>0</td>\n",
       "    </tr>\n",
       "    <tr>\n",
       "      <th>195</th>\n",
       "      <td>03-01-03-02-02-02-20.wav</td>\n",
       "      <td>[Unintelligible]</td>\n",
       "      <td>2</td>\n",
       "    </tr>\n",
       "    <tr>\n",
       "      <th>269</th>\n",
       "      <td>03-01-04-02-02-01-24.wav</td>\n",
       "      <td>is dogs are sitting by the door</td>\n",
       "      <td>0</td>\n",
       "    </tr>\n",
       "    <tr>\n",
       "      <th>275</th>\n",
       "      <td>03-01-04-02-02-02-20.wav</td>\n",
       "      <td>do dogs are sitting by the door</td>\n",
       "      <td>0</td>\n",
       "    </tr>\n",
       "    <tr>\n",
       "      <th>295</th>\n",
       "      <td>03-01-05-01-01-02-20.wav</td>\n",
       "      <td>my kids are talking by the door</td>\n",
       "      <td>1</td>\n",
       "    </tr>\n",
       "    <tr>\n",
       "      <th>333</th>\n",
       "      <td>03-01-05-02-01-02-04.wav</td>\n",
       "      <td>kids are talking about the door</td>\n",
       "      <td>1</td>\n",
       "    </tr>\n",
       "    <tr>\n",
       "      <th>345</th>\n",
       "      <td>03-01-05-02-02-01-20.wav</td>\n",
       "      <td>the dogs are sitting by the door</td>\n",
       "      <td>0</td>\n",
       "    </tr>\n",
       "    <tr>\n",
       "      <th>372</th>\n",
       "      <td>03-01-06-01-01-02-03.wav</td>\n",
       "      <td>the kids are talking by the door</td>\n",
       "      <td>1</td>\n",
       "    </tr>\n",
       "    <tr>\n",
       "      <th>386</th>\n",
       "      <td>03-01-06-01-02-01-21.wav</td>\n",
       "      <td>dogs are sitting behind the door</td>\n",
       "      <td>0</td>\n",
       "    </tr>\n",
       "    <tr>\n",
       "      <th>400</th>\n",
       "      <td>03-01-06-02-01-01-01.wav</td>\n",
       "      <td>kids talking by the door</td>\n",
       "      <td>1</td>\n",
       "    </tr>\n",
       "    <tr>\n",
       "      <th>401</th>\n",
       "      <td>03-01-06-02-01-01-02.wav</td>\n",
       "      <td>kids are talking by the tour</td>\n",
       "      <td>1</td>\n",
       "    </tr>\n",
       "    <tr>\n",
       "      <th>505</th>\n",
       "      <td>03-01-07-02-02-01-20.wav</td>\n",
       "      <td>dogs sitting by the door</td>\n",
       "      <td>0</td>\n",
       "    </tr>\n",
       "    <tr>\n",
       "      <th>563</th>\n",
       "      <td>03-01-08-02-01-01-04.wav</td>\n",
       "      <td>a kids are talking about the door</td>\n",
       "      <td>1</td>\n",
       "    </tr>\n",
       "  </tbody>\n",
       "</table>\n",
       "</div>"
      ],
      "text/plain": [
       "                     filename                      transcription  cluster\n",
       "0    03-01-01-01-01-01-01.wav       kids are talking by the door        1\n",
       "20   03-01-01-01-02-01-01.wav       dogs are sitting by the door        0\n",
       "182  03-01-03-02-02-01-03.wav   are dogs are sitting by the door        0\n",
       "195  03-01-03-02-02-02-20.wav                   [Unintelligible]        2\n",
       "269  03-01-04-02-02-01-24.wav    is dogs are sitting by the door        0\n",
       "275  03-01-04-02-02-02-20.wav    do dogs are sitting by the door        0\n",
       "295  03-01-05-01-01-02-20.wav    my kids are talking by the door        1\n",
       "333  03-01-05-02-01-02-04.wav    kids are talking about the door        1\n",
       "345  03-01-05-02-02-01-20.wav   the dogs are sitting by the door        0\n",
       "372  03-01-06-01-01-02-03.wav   the kids are talking by the door        1\n",
       "386  03-01-06-01-02-01-21.wav   dogs are sitting behind the door        0\n",
       "400  03-01-06-02-01-01-01.wav           kids talking by the door        1\n",
       "401  03-01-06-02-01-01-02.wav       kids are talking by the tour        1\n",
       "505  03-01-07-02-02-01-20.wav           dogs sitting by the door        0\n",
       "563  03-01-08-02-01-01-04.wav  a kids are talking about the door        1"
      ]
     },
     "execution_count": 27,
     "metadata": {},
     "output_type": "execute_result"
    }
   ],
   "source": [
    "unique_df"
   ]
  },
  {
   "cell_type": "code",
   "execution_count": 28,
   "id": "73e0837f",
   "metadata": {},
   "outputs": [],
   "source": [
    "pca = PCA(n_components=2, random_state=42)\n",
    "reduced = pca.fit_transform(X.toarray())"
   ]
  },
  {
   "cell_type": "code",
   "execution_count": 29,
   "id": "6eba4e24",
   "metadata": {},
   "outputs": [
    {
     "data": {
      "image/png": "[encoded data removed]",
      "text/plain": [
       "<Figure size 800x600 with 1 Axes>"
      ]
     },
     "metadata": {},
     "output_type": "display_data"
    }
   ],
   "source": [
    "plt.figure(figsize=(8,6))\n",
    "for i in range(k):\n",
    "    points = reduced[unique_df['cluster'] == i]\n",
    "    plt.scatter(points[:, 0], points[:, 1], label=f\"Cluster {i}\")\n",
    "plt.title(\"K-Means Clustering of Audio Transcriptions\")\n",
    "plt.xlabel(\"PCA 1\")\n",
    "plt.ylabel(\"PCA 2\")\n",
    "plt.legend()\n",
    "plt.grid(True)\n",
    "plt.tight_layout()\n",
    "plt.show()"
   ]
  },
  {
   "cell_type": "code",
   "execution_count": null,
   "id": "fc4340b0",
   "metadata": {},
   "outputs": [
    {
     "name": "stdout",
     "output_type": "stream",
     "text": [
      "\n",
      "🧾 Example sentences by cluster:\n",
      "\n",
      "--- Cluster 0 ---\n",
      "['dogs are sitting by the door']\n",
      "\n",
      "--- Cluster 1 ---\n",
      "['kids are talking by the door']\n",
      "\n",
      "--- Cluster 2 ---\n",
      "['[Unintelligible]']\n"
     ]
    }
   ],
   "source": [
    "print(\"\\nExample sentences by cluster:\")\n",
    "for i in range(k):\n",
    "    print(f\"\\n--- Cluster {i} ---\")\n",
    "    print(unique_df[unique_df[\"cluster\"] == i][\"transcription\"].sample(random_state=42).tolist())"
   ]
  },
  {
   "cell_type": "code",
   "execution_count": null,
   "id": "92ced336",
   "metadata": {},
   "outputs": [],
   "source": []
  }
 ],
 "metadata": {
  "kernelspec": {
   "display_name": "venv",
   "language": "python",
   "name": "python3"
  },
  "language_info": {
   "codemirror_mode": {
    "name": "ipython",
    "version": 3
   },
   "file_extension": ".py",
   "mimetype": "text/x-python",
   "name": "python",
   "nbconvert_exporter": "python",
   "pygments_lexer": "ipython3",
   "version": "3.12.6"
  }
 },
 "nbformat": 4,
 "nbformat_minor": 5
}
